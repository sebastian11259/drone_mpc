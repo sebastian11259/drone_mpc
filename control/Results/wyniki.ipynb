{
 "cells": [
  {
   "cell_type": "raw",
   "source": [],
   "metadata": {
    "collapsed": false
   },
   "id": "97340d24aa1fefba"
  },
  {
   "cell_type": "code",
   "outputs": [
    {
     "data": {
      "text/plain": "Empty DataFrame\nColumns: [mpc_ver, track, success, horizon, sampling_time, divisor, kt, flight_time, planner_time, total_time, avg_time, flight_traj, ref_traj]\nIndex: []",
      "text/html": "<div>\n<style scoped>\n    .dataframe tbody tr th:only-of-type {\n        vertical-align: middle;\n    }\n\n    .dataframe tbody tr th {\n        vertical-align: top;\n    }\n\n    .dataframe thead th {\n        text-align: right;\n    }\n</style>\n<table border=\"1\" class=\"dataframe\">\n  <thead>\n    <tr style=\"text-align: right;\">\n      <th></th>\n      <th>mpc_ver</th>\n      <th>track</th>\n      <th>success</th>\n      <th>horizon</th>\n      <th>sampling_time</th>\n      <th>divisor</th>\n      <th>kt</th>\n      <th>flight_time</th>\n      <th>planner_time</th>\n      <th>total_time</th>\n      <th>avg_time</th>\n      <th>flight_traj</th>\n      <th>ref_traj</th>\n    </tr>\n  </thead>\n  <tbody>\n  </tbody>\n</table>\n</div>"
     },
     "execution_count": 27,
     "metadata": {},
     "output_type": "execute_result"
    }
   ],
   "source": [
    "import pandas as pd\n",
    "\n",
    "\n",
    "df = pd.read_csv(\"wyniki.csv\")\n",
    "\n",
    "df.head(100)"
   ],
   "metadata": {
    "collapsed": false,
    "ExecuteTime": {
     "end_time": "2024-01-08T00:19:01.334603634Z",
     "start_time": "2024-01-08T00:19:01.290940333Z"
    }
   },
   "id": "72bebce8892f34f8",
   "execution_count": 27
  },
  {
   "cell_type": "code",
   "outputs": [],
   "source": [],
   "metadata": {
    "collapsed": false,
    "ExecuteTime": {
     "end_time": "2024-01-08T00:19:01.335561297Z",
     "start_time": "2024-01-08T00:19:01.333817570Z"
    }
   },
   "id": "eaad6fcb7b604bbe",
   "execution_count": 27
  }
 ],
 "metadata": {
  "kernelspec": {
   "display_name": "Python 3",
   "language": "python",
   "name": "python3"
  },
  "language_info": {
   "codemirror_mode": {
    "name": "ipython",
    "version": 2
   },
   "file_extension": ".py",
   "mimetype": "text/x-python",
   "name": "python",
   "nbconvert_exporter": "python",
   "pygments_lexer": "ipython2",
   "version": "2.7.6"
  }
 },
 "nbformat": 4,
 "nbformat_minor": 5
}
